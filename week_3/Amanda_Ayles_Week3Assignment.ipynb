{
 "cells": [
  {
   "cell_type": "markdown",
   "metadata": {},
   "source": [
    "# Week 3 Assignment"
   ]
  },
  {
   "cell_type": "markdown",
   "metadata": {},
   "source": [
    "## 1.1 If statements"
   ]
  },
  {
   "cell_type": "code",
   "execution_count": 16,
   "metadata": {
    "collapsed": false,
    "scrolled": false
   },
   "outputs": [
    {
     "name": "stdout",
     "output_type": "stream",
     "text": [
      "Please enter your income: 5000\n",
      "Taxes owed: $600.00\n"
     ]
    }
   ],
   "source": [
    "income = int(input(\"Please enter your income: \"))\n",
    "tax = 0\n",
    "if income > 1000:\n",
    "    income -= 1000\n",
    "    tax += (1000 * .05)\n",
    "    \n",
    "    if income > 1000:\n",
    "        income -= 1000\n",
    "        tax += (1000 * .10)\n",
    "        \n",
    "        if income > 0:\n",
    "            tax += income * .15\n",
    "    else:\n",
    "        tax += income * .10\n",
    "else:    \n",
    "    tax += income * .05\n",
    "    \n",
    "print(\"Taxes owed: $%0.2f\" % tax)"
   ]
  },
  {
   "cell_type": "markdown",
   "metadata": {},
   "source": [
    "## 1.2 While loops"
   ]
  },
  {
   "cell_type": "code",
   "execution_count": 15,
   "metadata": {
    "collapsed": false
   },
   "outputs": [
    {
     "name": "stdout",
     "output_type": "stream",
     "text": [
      "Enter your name: Tacocat\n",
      "Tacocat\n",
      "Palindrome!\n"
     ]
    }
   ],
   "source": [
    "name = input(\"Enter your name: \")\n",
    "name = name.lower()\n",
    "newName = \"\"\n",
    "nameCount = len(name)\n",
    "while nameCount > 0:\n",
    "    newName += name[nameCount-1]\n",
    "    nameCount -= 1\n",
    "print(newName.title())\n",
    "\n",
    "if name == newName:\n",
    "    print(\"Palindrome!\")"
   ]
  },
  {
   "cell_type": "markdown",
   "metadata": {},
   "source": [
    "## 1.3 Tree Prints"
   ]
  },
  {
   "cell_type": "code",
   "execution_count": 56,
   "metadata": {
    "collapsed": false
   },
   "outputs": [
    {
     "name": "stdout",
     "output_type": "stream",
     "text": [
      "Enter a size: 5\n",
      "    1\n",
      "   121\n",
      "  12321\n",
      " 1234321\n",
      "123454321\n"
     ]
    }
   ],
   "source": [
    "n = int(input(\"Enter a size: \"))\n",
    "for x in range(1, n+1):\n",
    "    print((n-x) * \" \", end=\"\")\n",
    "    for y in range(1, x):\n",
    "        print(y, end=\"\")\n",
    "    for z in range(x, 0, -1):\n",
    "        print(z, end=\"\")\n",
    "    print()"
   ]
  },
  {
   "cell_type": "markdown",
   "metadata": {},
   "source": [
    "## 1.4 Fibonacci"
   ]
  },
  {
   "cell_type": "code",
   "execution_count": 43,
   "metadata": {
    "collapsed": false
   },
   "outputs": [
    {
     "name": "stdout",
     "output_type": "stream",
     "text": [
      "Enter a number: 25\n",
      "1 1 2 3 5 8 13 21 "
     ]
    }
   ],
   "source": [
    "n = int(input(\"Enter a number: \"))\n",
    "x1 = x2 = sum = 1\n",
    "if n > 0:\n",
    "    print (str(x1) + \" \", end=\"\")\n",
    "    while sum <= n:\n",
    "        print (str(sum) + \" \", end=\"\")\n",
    "        sum = x1 + x2\n",
    "        x1 = x2\n",
    "        x2 = sum\n",
    "else:\n",
    "    print(\"There are no Fibonacci to be had.\")"
   ]
  },
  {
   "cell_type": "markdown",
   "metadata": {},
   "source": [
    "## 1.5 Pascal's Triangle"
   ]
  },
  {
   "cell_type": "code",
   "execution_count": 75,
   "metadata": {
    "collapsed": false
   },
   "outputs": [
    {
     "name": "stdout",
     "output_type": "stream",
     "text": [
      "Enter a number: 6\n",
      "      1 \n",
      "     1 1 \n",
      "    1 2 1 \n",
      "   1 3 3 1 \n",
      "  1 4 6 4 1 \n",
      " 1 5 10 10 5 1 \n"
     ]
    }
   ],
   "source": [
    "n = int(input(\"Enter a number: \"))\n",
    "triangle = []\n",
    "if n > 0:\n",
    "    triangle.append([1])\n",
    "    for x in range(2, n+1):\n",
    "        triangle.append([1, 1])\n",
    "        if x > 2:\n",
    "            for y in range(0, len(triangle[x-2])-1):\n",
    "                triangle[x-1].insert(len(triangle[x-1])-1, (triangle[x-2][y] + triangle[x-2][y+1]))\n",
    "    for z in range(0, len(triangle)):\n",
    "        print((n-z) * \" \", end=\"\")\n",
    "        for a in range(0, len(triangle[z])):\n",
    "            print(str(triangle[z][a]) + \" \", end=\"\")\n",
    "        print()"
   ]
  },
  {
   "cell_type": "markdown",
   "metadata": {},
   "source": [
    "*I know, I know... I didn't figure out the spaces. =(*"
   ]
  },
  {
   "cell_type": "code",
   "execution_count": null,
   "metadata": {
    "collapsed": true
   },
   "outputs": [],
   "source": []
  }
 ],
 "metadata": {
  "anaconda-cloud": {},
  "kernelspec": {
   "display_name": "Python [default]",
   "language": "python",
   "name": "python3"
  },
  "language_info": {
   "codemirror_mode": {
    "name": "ipython",
    "version": 3
   },
   "file_extension": ".py",
   "mimetype": "text/x-python",
   "name": "python",
   "nbconvert_exporter": "python",
   "pygments_lexer": "ipython3",
   "version": "3.5.2"
  }
 },
 "nbformat": 4,
 "nbformat_minor": 1
}
