{
 "cells": [
  {
   "cell_type": "markdown",
   "metadata": {},
   "source": [
    "# Week 4 Assignment"
   ]
  },
  {
   "cell_type": "markdown",
   "metadata": {},
   "source": [
    "## 1. For Loops"
   ]
  },
  {
   "cell_type": "code",
   "execution_count": 8,
   "metadata": {
    "collapsed": false
   },
   "outputs": [
    {
     "name": "stdout",
     "output_type": "stream",
     "text": [
      "Enter one word: Home\n",
      "Enter another word: meter\n",
      "Letters in common: em"
     ]
    }
   ],
   "source": [
    "first = input(\"Enter one word: \")\n",
    "second = input(\"Enter another word: \")\n",
    "letterFound = False\n",
    "\n",
    "print(\"Letters in common: \", end=\"\")\n",
    "for char in \"abcdefghijklmnopqrstuvwxyz\":\n",
    "    if char in first.lower() and char in second.lower():\n",
    "        print(char, end=\"\")\n",
    "        letterFound = True\n",
    "\n",
    "if not(letterFound):\n",
    "    print(\"None!\")"
   ]
  },
  {
   "cell_type": "code",
   "execution_count": 1,
   "metadata": {
    "collapsed": true
   },
   "outputs": [],
   "source": [
    "import numpy as np"
   ]
  },
  {
   "cell_type": "code",
   "execution_count": 14,
   "metadata": {
    "collapsed": false
   },
   "outputs": [
    {
     "name": "stdout",
     "output_type": "stream",
     "text": [
      "Enter a board size: 3\n",
      "1 0 0 \n",
      "1 1 0 \n",
      "1 2 1 \n"
     ]
    }
   ],
   "source": [
    "n = int(input(\"Enter a board size: \"))\n",
    "board = np.zeros((n, n), dtype=np.int16)\n",
    "\n",
    "board[0][0] = 1\n",
    "for x in range(0, n-1):\n",
    "    for y in range(0, n):\n",
    "        if board[x][y] > 0:\n",
    "            board[x+1][y] += board[x][y]\n",
    "            if y < n-1:\n",
    "                board[x+1][y+1] += board[x][y]\n",
    "                \n",
    "for x in range(0, n):\n",
    "    for y in range(0, n):\n",
    "        print(str(board[x][y]) + \" \", end=\"\")\n",
    "    print()"
   ]
  },
  {
   "cell_type": "markdown",
   "metadata": {
    "collapsed": true
   },
   "source": [
    "## 2. Bisection Search"
   ]
  },
  {
   "cell_type": "code",
   "execution_count": 22,
   "metadata": {
    "collapsed": false
   },
   "outputs": [
    {
     "name": "stdout",
     "output_type": "stream",
     "text": [
      "enter a number:0.25\n",
      "low = 0.25 high = 1\n",
      "low = 0.25 high = 0.625\n",
      "low = 0.4375 high = 0.625\n",
      "low = 0.4375 high = 0.53125\n",
      "low = 0.484375 high = 0.53125\n",
      "low = 0.484375 high = 0.5078125\n",
      "low = 0.49609375 high = 0.5078125\n",
      "low = 0.49609375 high = 0.501953125\n",
      "low = 0.4990234375 high = 0.501953125\n",
      "low = 0.4990234375 high = 0.50048828125\n",
      "low = 0.499755859375 high = 0.50048828125\n",
      "low = 0.499755859375 high = 0.5001220703125\n",
      "low = 0.49993896484375 high = 0.5001220703125\n",
      "low = 0.49993896484375 high = 0.500030517578125\n",
      "low = 0.4999847412109375 high = 0.500030517578125\n",
      "low = 0.4999847412109375 high = 0.5000076293945312\n",
      "number of guesses = 16\n",
      "0.5000019073486328 is close to square root of 0.25\n"
     ]
    }
   ],
   "source": [
    "## Bisection Search to Find a Square Root\n",
    "\n",
    "x = float(input(\"enter a number:\"))\n",
    "epsilon = 0.00001\n",
    "num_guesses = 0\n",
    "if x > 1:\n",
    "    low = 0.0\n",
    "    high = x\n",
    "else:\n",
    "    low = x\n",
    "    high = 1\n",
    "ans = (high + low)/2.0\n",
    "while high - low >= 2 * epsilon:\n",
    "    print(\"low =\",low,\"high =\", high)\n",
    "    num_guesses += 1\n",
    "    if ans ** 2 < x:\n",
    "        low = ans\n",
    "    else:\n",
    "        high = ans\n",
    "    ans = (high + low)/2.0\n",
    "print('number of guesses =', num_guesses)\n",
    "print(ans, 'is close to square root of', x)"
   ]
  },
  {
   "cell_type": "markdown",
   "metadata": {},
   "source": [
    "## 3. Bisection Search Part 2"
   ]
  },
  {
   "cell_type": "markdown",
   "metadata": {},
   "source": [
    "1. To put it simply, the bisection search algorithm for finding square roots works faster on large numbers than the brute force algorithm because less numbers need to be checked as possible solutions in the bisection search. In a typical brute force method, every epsilong increment between 0 and the large number would be checked as a possible solution. In a bisection search, the distance between 0 and the large number is at least consistently cut in half so that more numbers can be quickly counted out as possible solutions.\n",
    "2. At this rate, Newton's method for finding square roots will outperform both of the methods above because the steps taken between possible solutions are more deliberately calculated and serve to maximize the amount of possible solutions that you can rule out without needing to test them explicitly. "
   ]
  },
  {
   "cell_type": "code",
   "execution_count": 26,
   "metadata": {
    "collapsed": false
   },
   "outputs": [
    {
     "name": "stdout",
     "output_type": "stream",
     "text": [
      "Enter a number: 10\n",
      "3.1622770000000004 is close to the square root of 10.0\n"
     ]
    }
   ],
   "source": [
    "x = float(input(\"Enter a number: \"))\n",
    "step = 1\n",
    "epsilon = 0.00001\n",
    "ans = 0.0 \n",
    "\n",
    "while abs(ans ** 2 - x) > epsilon:\n",
    "    if (ans + step) ** 2 < x:\n",
    "        ans += step\n",
    "    else:\n",
    "        step /= 10\n",
    "    \n",
    "print(ans, \"is close to the square root of\", x)"
   ]
  },
  {
   "cell_type": "markdown",
   "metadata": {},
   "source": [
    "## 4. Comprehensions"
   ]
  },
  {
   "cell_type": "code",
   "execution_count": 33,
   "metadata": {
    "collapsed": false
   },
   "outputs": [
    {
     "data": {
      "text/plain": [
       "[1, 16, 49]"
      ]
     },
     "execution_count": 33,
     "metadata": {},
     "output_type": "execute_result"
    }
   ],
   "source": [
    "[number*number for number in range(1, 10) if number % 3 == 1]"
   ]
  },
  {
   "cell_type": "code",
   "execution_count": 37,
   "metadata": {
    "collapsed": false
   },
   "outputs": [
    {
     "name": "stdout",
     "output_type": "stream",
     "text": [
      "['I', 'l', 'm', 'l', 'a', 'q', 'm', 'a', 'a', 't', 'N', 'e', 'm', 'n', 't', 'm', 'n', 't', 's', 'n', 'm', 't', 'a', 'a', 't', 'b', 'F', 't', 't', 's', 'o', 'l', 'I', 'f']\n"
     ]
    }
   ],
   "source": [
    "text = \"I live my life a quarter mile at a time. \\\n",
    "Nothing else matters: not the mortgage, not the store, \\\n",
    "not my team and all their bullshit. \\\n",
    "For those ten seconds or less, I'm free.\"\n",
    "characters = [word[0] for word in text.split()]\n",
    "print(characters)"
   ]
  },
  {
   "cell_type": "code",
   "execution_count": 39,
   "metadata": {
    "collapsed": false
   },
   "outputs": [
    {
     "data": {
      "text/plain": [
       "[(3, 4, 5),\n",
       " (5, 12, 13),\n",
       " (6, 8, 10),\n",
       " (7, 24, 25),\n",
       " (8, 15, 17),\n",
       " (9, 12, 15),\n",
       " (12, 16, 20),\n",
       " (15, 20, 25)]"
      ]
     },
     "execution_count": 39,
     "metadata": {},
     "output_type": "execute_result"
    }
   ],
   "source": [
    "xs = range(1, 24)\n",
    "ys = range(2, 25)\n",
    "zs = range(3, 26)\n",
    "[(x, y, z) for x in xs for y in ys for z in zs if (x <= y and y <= z) and (x ** 2 + y ** 2 == z ** 2)]"
   ]
  },
  {
   "cell_type": "code",
   "execution_count": 42,
   "metadata": {
    "collapsed": false
   },
   "outputs": [
    {
     "data": {
      "text/plain": [
       "['elcomed',\n",
       " 'Wlcomed',\n",
       " 'Wecomed',\n",
       " 'Welomed',\n",
       " 'Welcmed',\n",
       " 'Welcoed',\n",
       " 'Welcomd',\n",
       " 'Welcome']"
      ]
     },
     "execution_count": 42,
     "metadata": {},
     "output_type": "execute_result"
    }
   ],
   "source": [
    "word = \"Welcomed\"\n",
    "[word[:i]+word[i+1:] for i in range(len(word))]"
   ]
  },
  {
   "cell_type": "code",
   "execution_count": 43,
   "metadata": {
    "collapsed": false
   },
   "outputs": [
    {
     "data": {
      "text/plain": [
       "['Baoted',\n",
       " 'Beoted',\n",
       " 'Bioted',\n",
       " 'Buoted',\n",
       " 'Boated',\n",
       " 'Boeted',\n",
       " 'Boited',\n",
       " 'Bouted',\n",
       " 'Bootad',\n",
       " 'Bootid',\n",
       " 'Bootod',\n",
       " 'Bootud']"
      ]
     },
     "execution_count": 43,
     "metadata": {},
     "output_type": "execute_result"
    }
   ],
   "source": [
    "word = \"Booted\"\n",
    "vowel = \"aeiou\"\n",
    "[word[:char] + vowel[i] + word[char+1:] for char in range(len(word)) for i in range(len(vowel)) \\\n",
    "    if word[char] in vowel and vowel[i] != word[char]]"
   ]
  },
  {
   "cell_type": "code",
   "execution_count": null,
   "metadata": {
    "collapsed": true
   },
   "outputs": [],
   "source": []
  }
 ],
 "metadata": {
  "anaconda-cloud": {},
  "kernelspec": {
   "display_name": "Python [default]",
   "language": "python",
   "name": "python3"
  },
  "language_info": {
   "codemirror_mode": {
    "name": "ipython",
    "version": 3
   },
   "file_extension": ".py",
   "mimetype": "text/x-python",
   "name": "python",
   "nbconvert_exporter": "python",
   "pygments_lexer": "ipython3",
   "version": "3.5.2"
  }
 },
 "nbformat": 4,
 "nbformat_minor": 1
}
