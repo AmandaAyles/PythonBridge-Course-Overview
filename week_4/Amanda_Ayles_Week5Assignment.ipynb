{
 "cells": [
  {
   "cell_type": "markdown",
   "metadata": {},
   "source": [
    "# Week 5 Assignment"
   ]
  },
  {
   "cell_type": "markdown",
   "metadata": {},
   "source": [
    "## 1. Function Exercises"
   ]
  },
  {
   "cell_type": "code",
   "execution_count": 12,
   "metadata": {
    "collapsed": false
   },
   "outputs": [
    {
     "name": "stdout",
     "output_type": "stream",
     "text": [
      "The final value is:  2\n"
     ]
    }
   ],
   "source": [
    "def sum_digits(num):\n",
    "    '''I chose to interpret that a negative argument gives the negative to the first number in the sequence. \\\n",
    "       So: a -123 = -1 + 2 + 3 = 4'''\n",
    "    numstr = str(abs(num))\n",
    "    sum = 0\n",
    "    for x in range(0, len(numstr)):\n",
    "        sum += int(numstr[x])\n",
    "        if x == 0 and num < 0:\n",
    "            sum *= -1\n",
    "    return sum\n",
    "\n",
    "def diff_sum_digits(num):\n",
    "    return num - sum_digits(num)\n",
    "\n",
    "def numerology(num):\n",
    "    value = diff_sum_digits(num)\n",
    "    while len(str(abs(value))) > 1:\n",
    "        value = sum_digits(value)\n",
    "    print(\"The final value is: \", value)\n",
    "    \n",
    "numerology(-789)        "
   ]
  },
  {
   "cell_type": "code",
   "execution_count": 19,
   "metadata": {
    "collapsed": false
   },
   "outputs": [
    {
     "data": {
      "text/plain": [
       "'Omasthay'"
      ]
     },
     "execution_count": 19,
     "metadata": {},
     "output_type": "execute_result"
    }
   ],
   "source": [
    "def is_consonant(ch):\n",
    "    return ch.lower() in 'bcdfghjklmnpqrstvwxyz'\n",
    "\n",
    "def to_piglatin(word):\n",
    "    word = word.lower()\n",
    "    moved = True\n",
    "    while(moved):\n",
    "        if is_consonant(word[0]):\n",
    "            word = word[1:] + word[0]\n",
    "        else:\n",
    "            moved = False\n",
    "    return word.capitalize() + \"ay\"\n",
    "\n",
    "to_piglatin(\"Thomas\")"
   ]
  },
  {
   "cell_type": "markdown",
   "metadata": {
    "collapsed": true
   },
   "source": [
    "## 2. Namespace Exercises"
   ]
  },
  {
   "cell_type": "code",
   "execution_count": 11,
   "metadata": {
    "collapsed": false
   },
   "outputs": [
    {
     "name": "stdout",
     "output_type": "stream",
     "text": [
      "        antacid  --- $ 5.33\n",
      "     sour bites  --- $ 6.99\n",
      "    gummy bears  --- $ 1.99\n",
      "        oranges  --- $ 12.88\n",
      "Total price: $ 27.19\n"
     ]
    }
   ],
   "source": [
    "total = 0\n",
    "\n",
    "def process_order(x_list):\n",
    "    global total\n",
    "    item = x_list.pop()\n",
    "    cost = item[1] * item[2]\n",
    "    print (item[0].rjust(15), \" --- $\", cost)\n",
    "    total += cost\n",
    "\n",
    "x = [(\"oranges\", 4, 3.22), (\"gummy bears\", 1, 1.99), (\"sour bites\", 3, 2.33), (\"antacid\", 1, 5.33)]\n",
    "while(len(x) > 0):\n",
    "    process_order(x)\n",
    "print(\"Total price: $\", total)"
   ]
  },
  {
   "cell_type": "markdown",
   "metadata": {},
   "source": [
    "## 3. Functions as Objects"
   ]
  },
  {
   "cell_type": "code",
   "execution_count": 35,
   "metadata": {
    "collapsed": false
   },
   "outputs": [
    {
     "name": "stdout",
     "output_type": "stream",
     "text": [
      "Alexis\n",
      "Madonna\n"
     ]
    }
   ],
   "source": [
    "def best(score, names):\n",
    "    scores = [(name, score(name)) for name in names]\n",
    "    return (max(scores, key=lambda x: x[1]))[0]\n",
    "\n",
    "def number_of_vowels(word):\n",
    "    vowels = [letter for letter in word.lower() if letter in \"aeiou\"]\n",
    "    return len(vowels)\n",
    "\n",
    "names = [\"Ben\", \"April\", \"Zaber\", \"Alexis\", \"McJagger\", \"J.J.\", \"Madonna\"]\n",
    "\n",
    "print(best(number_of_vowels, names))\n",
    "print(best(lambda x: x.lower().count(\"a\"), names))"
   ]
  },
  {
   "cell_type": "markdown",
   "metadata": {},
   "source": [
    "## 4. Exceptions Exercises"
   ]
  },
  {
   "cell_type": "code",
   "execution_count": 39,
   "metadata": {
    "collapsed": false
   },
   "outputs": [
    {
     "name": "stdout",
     "output_type": "stream",
     "text": [
      "Enter a number: 0\n",
      "Zero does not have a reciprocal\n",
      "Enter a number: ab\n",
      "You did not enter a valid number.\n",
      "Enter a number: inf\n",
      "The reciprocal of your number is 0.0\n"
     ]
    }
   ],
   "source": [
    "valueFound = False\n",
    "while not valueFound:\n",
    "    try:\n",
    "        x = float(input(\"Enter a number: \"))\n",
    "        print(\"The reciprocal of your number is\", 1/x)\n",
    "        valueFound = True\n",
    "    except ValueError:\n",
    "        print(\"You did not enter a valid number.\")\n",
    "    except ZeroDivisionError:\n",
    "        print(\"Zero does not have a reciprocal\")\n",
    "    except:\n",
    "        print(\"Something else went wrong.\")"
   ]
  },
  {
   "cell_type": "code",
   "execution_count": 47,
   "metadata": {
    "collapsed": false
   },
   "outputs": [
    {
     "name": "stdout",
     "output_type": "stream",
     "text": [
      "Could not compute a weighted average: The weight values do not add up to 100!\n",
      "Could not compute a weighted average: The weight value cannot be negative or greater than 100.\n",
      "84.45\n"
     ]
    }
   ],
   "source": [
    "def weighted_average(grades, weights):\n",
    "    avg = 0\n",
    "    if sum(weights) != 100:\n",
    "        raise Exception(\"The weight values do not add up to 100!\")\n",
    "    for x in range(0, len(grades)):\n",
    "        if weights[x] < 0 or weights[x] > 100:\n",
    "            raise Exception(\"The weight value cannot be negative or greater than 100.\")\n",
    "        avg += (grades[x] * weights[x] * .01)\n",
    "    return avg\n",
    "         \n",
    "grades1 = [88,99,100,70]\n",
    "weights1 = [30, 30, 30, 5]\n",
    "\n",
    "grades2 = [78, 75, 80, 99]\n",
    "weights2 = [110, 10, -20]\n",
    "\n",
    "grades3 = [83, 75, 90, 100]\n",
    "weights3 = [40, 25, 25, 10]\n",
    "\n",
    "try:\n",
    "    print(weighted_average(grades1, weights1))\n",
    "except Exception as e:\n",
    "    print(\"Could not compute a weighted average: \" + str(e))\n",
    "\n",
    "try:\n",
    "    print(weighted_average(grades2, weights2))\n",
    "except Exception as e:\n",
    "    print(\"Could not compute a weighted average: \" + str(e))\n",
    "    \n",
    "try:\n",
    "    print(weighted_average(grades3, weights3))\n",
    "except Exception as e:\n",
    "    print(\"Could not compute a weighted average: \" + str(e))"
   ]
  },
  {
   "cell_type": "code",
   "execution_count": null,
   "metadata": {
    "collapsed": true
   },
   "outputs": [],
   "source": []
  }
 ],
 "metadata": {
  "anaconda-cloud": {},
  "kernelspec": {
   "display_name": "Python [default]",
   "language": "python",
   "name": "python3"
  },
  "language_info": {
   "codemirror_mode": {
    "name": "ipython",
    "version": 3
   },
   "file_extension": ".py",
   "mimetype": "text/x-python",
   "name": "python",
   "nbconvert_exporter": "python",
   "pygments_lexer": "ipython3",
   "version": "3.5.2"
  }
 },
 "nbformat": 4,
 "nbformat_minor": 1
}
